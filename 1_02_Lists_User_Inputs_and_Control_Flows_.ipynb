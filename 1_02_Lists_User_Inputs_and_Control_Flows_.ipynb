{
  "nbformat": 4,
  "nbformat_minor": 0,
  "metadata": {
    "colab": {
      "name": "1.02 Lists User Inputs and Control Flows .ipynb",
      "provenance": [],
      "collapsed_sections": [],
      "authorship_tag": "ABX9TyO5FwivLzmdEccdF+u9faMX",
      "include_colab_link": true
    },
    "kernelspec": {
      "name": "python3",
      "display_name": "Python 3"
    },
    "language_info": {
      "name": "python"
    }
  },
  "cells": [
    {
      "cell_type": "markdown",
      "metadata": {
        "id": "view-in-github",
        "colab_type": "text"
      },
      "source": [
        "<a href=\"https://colab.research.google.com/github/AdaobiNwafor/AddieesClassroom/blob/main/1_02_Lists_User_Inputs_and_Control_Flows_.ipynb\" target=\"_parent\"><img src=\"https://colab.research.google.com/assets/colab-badge.svg\" alt=\"Open In Colab\"/></a>"
      ]
    },
    {
      "cell_type": "markdown",
      "source": [
        "# Lists"
      ],
      "metadata": {
        "id": "qrLQNCWfFOlz"
      }
    },
    {
      "cell_type": "markdown",
      "source": [
        "Lists are ordered collections of items. They are placed in square brackets `[]`, and are separated by commas.\n",
        "\n",
        "A list can contain either numbers or string or BOTH. "
      ],
      "metadata": {
        "id": "-hZ6aIs8FOj5"
      }
    },
    {
      "cell_type": "markdown",
      "source": [
        "Suppose we want to make a list of the heights of students in a class:\n",
        "\n",
        "* Noelle is 61 inches tall\n",
        "* Ava is 70 inches tall\n",
        "* Sam is 67 inches tall\n",
        "* Mia is 64 inches tall\n",
        "\n",
        "In Python, we can create a variable called `heights` to store these integers into a list:"
      ],
      "metadata": {
        "id": "MFM_o6CVFOXZ"
      }
    },
    {
      "cell_type": "code",
      "execution_count": null,
      "metadata": {
        "id": "7fLh4TW-DwgN"
      },
      "outputs": [],
      "source": [
        "heights = [61, 70, 67, 64]"
      ]
    },
    {
      "cell_type": "markdown",
      "source": [
        "If a new student joins, Chloe, and she is 65 inches tall. Add her height to the end of the list."
      ],
      "metadata": {
        "id": "uoTMJY8gGQk1"
      }
    },
    {
      "cell_type": "code",
      "source": [
        "# Add Chloe's height to the end of the list\n",
        "\n"
      ],
      "metadata": {
        "id": "4-Jta7K7GQLq"
      },
      "execution_count": null,
      "outputs": []
    },
    {
      "cell_type": "code",
      "source": [
        "numbers_and_strings = [1, 2, 3, 'four', 'five', 'six']\n",
        "\n",
        "# Add another string to the end of number_and_strings\n",
        "\n"
      ],
      "metadata": {
        "id": "YcMhWqsZGOEx"
      },
      "execution_count": null,
      "outputs": []
    },
    {
      "cell_type": "code",
      "source": [
        "# Create a new list sam_height_and_test_score that will contain:\n",
        "# The string 'Sam'\n",
        "# The number 67\n",
        "# The float 85.5\n",
        "# The boolean True\n",
        "\n"
      ],
      "metadata": {
        "id": "xtRO1D2RJUfj"
      },
      "execution_count": null,
      "outputs": []
    },
    {
      "cell_type": "markdown",
      "source": [
        "Lists do not always need to have something inside it. \n",
        "\n",
        "You can create an empty list with the plan to fill it up later.\n",
        "\n",
        "```python\n",
        "my_empty_list = []\n",
        "```\n"
      ],
      "metadata": {
        "id": "Y4iTE47TJmt2"
      }
    },
    {
      "cell_type": "markdown",
      "source": [
        "## Appending to a list\n",
        "\n",
        "To append to a list means to add to it. \n",
        "\n",
        "If you have a list and want to add another item to the end of it, you would append. \n",
        "\n",
        "Doing this in python is quick and easy, using a function called `append()` \n",
        "\n",
        "Example:\n",
        "\n",
        "```python\n",
        "number_list = [1, 2, 3, 4, 5]\n",
        "number_list.append(6,7, 8, 9, 10)\n",
        "```\n",
        "\n",
        "The output will be:\n",
        "```python \n",
        "1, 2, 3, 4, 6, 7, 8, 9, 10\n",
        "```\n",
        "\n",
        "As you can see, `6, 7, 8, 9, 10` were added to the end of the original list"
      ],
      "metadata": {
        "id": "fxfwPQY3JmrZ"
      }
    },
    {
      "cell_type": "code",
      "source": [
        "# Create an empty list called garden\n",
        "\n"
      ],
      "metadata": {
        "id": "gOG5QfRoK4t2"
      },
      "execution_count": null,
      "outputs": []
    },
    {
      "cell_type": "code",
      "source": [
        "# Add the element 'Tomatoes' to the list using the append() method\n",
        "\n",
        "\n",
        "# Print the statement to see the output of the list\n",
        "\n"
      ],
      "metadata": {
        "id": "_NgRWMXxK80C"
      },
      "execution_count": null,
      "outputs": []
    },
    {
      "cell_type": "code",
      "source": [
        "# Add the elements 'Grapes', 'Lettuce' and 'Apples' to the garden list\n",
        "# To make it more difficult, try doing this all at once. Otherwise, \n",
        "# Add each item one at a time\n",
        "\n"
      ],
      "metadata": {
        "id": "e_rCX7PXL5rB"
      },
      "execution_count": null,
      "outputs": []
    },
    {
      "cell_type": "markdown",
      "source": [
        "## Adding Lists"
      ],
      "metadata": {
        "id": "NHASdt0trtDT"
      }
    },
    {
      "cell_type": "markdown",
      "source": [
        "To make longer lists, you can add two or more lists together using (+).\n",
        "\n",
        "Example:\n",
        "\n",
        "```python\n",
        "items_sold = ['cake', 'cookies', 'bread']\n",
        "items_sold_new = items_sold + ['biscuit', 'tarts']\n",
        "print(items_sold_new)\n",
        "```\n",
        "\n",
        "What would be the output of the print statement?\n",
        "\n",
        "```python\n",
        "['cake', 'cookies', 'bread', 'biscuit', 'tarts']\n",
        "```\n",
        "\n",
        "To add numbers to a list is also easy.\n",
        "\n",
        "```python\n",
        "my_list = [1, 2, 3]\n",
        "my_list += [4] \n",
        "\n",
        "print(my_list)\n",
        "```\n",
        "\n",
        "Output:\n",
        "```\n",
        "[1, 2, 3, 4]\n",
        "```\n"
      ],
      "metadata": {
        "id": "VC4rxr3vJmon"
      }
    },
    {
      "cell_type": "markdown",
      "source": [
        "## Multiplying Lists "
      ],
      "metadata": {
        "id": "ANgH2zmbrqCY"
      }
    },
    {
      "cell_type": "markdown",
      "source": [
        "You can multiply the contents of a list, the same way you can with a string\n",
        "\n",
        "```python\n",
        "mylist = [1, 2, 3, 4, 5]\n",
        "print(mylist * 3)\n",
        "```\n",
        "\n",
        "The output is \n",
        "```python\n",
        "[1,2,3,4,5,1,2,3,4,5,1,2,3,4,5]\n",
        "```"
      ],
      "metadata": {
        "id": "j56t4RDxryY-"
      }
    },
    {
      "cell_type": "markdown",
      "source": [
        "## Indexing and Slicing Lists\n",
        "\n",
        "Indexing and slicing lists work the same way in lists as they do on strings.\n",
        "\n",
        "---\n",
        "### Indexing\n",
        "\n",
        "```python\n",
        "grocery_list = ['milk', 'eggs', 'bread', 'tea', 'sweets'] \n",
        "grocery_list[2] \n",
        "```\n",
        "\n",
        "What do you think the output of this print statement will be?\n",
        "\n"
      ],
      "metadata": {
        "id": "9WcBmsfhlOgX"
      }
    },
    {
      "cell_type": "code",
      "source": [
        "# Print the output of grocery_list[2]\n",
        "\n"
      ],
      "metadata": {
        "id": "MYhN7r0sJmZP"
      },
      "execution_count": null,
      "outputs": []
    },
    {
      "cell_type": "code",
      "source": [
        "# Print the output for 'sweets'\n",
        "\n"
      ],
      "metadata": {
        "id": "emNiR0ERJmWT"
      },
      "execution_count": null,
      "outputs": []
    },
    {
      "cell_type": "code",
      "source": [
        "# Create another grocery list named grocery_list_two\n",
        "# And add it to the original list\n",
        "# Print the new list\n",
        "\n",
        "\n"
      ],
      "metadata": {
        "id": "yEWYuqywmmbp"
      },
      "execution_count": null,
      "outputs": []
    },
    {
      "cell_type": "markdown",
      "source": [
        "It is also possible to change the items within a list using indexing.\n",
        "\n",
        "If you have a list\n",
        "\n",
        "```python\n",
        "new_list = [1, 2, 3, 4, 5]\n",
        "```\n",
        "\n",
        "If you wanted to change the value of 2, to something different, it can be changed like this:\n",
        "\n",
        "```python\n",
        "new_list[1] = 'dog'\n",
        "```"
      ],
      "metadata": {
        "id": "hlQh3nPqmmSv"
      }
    },
    {
      "cell_type": "code",
      "source": [
        "# Create a list named 'num_list' and input numbers from 1 to 8\n",
        "\n"
      ],
      "metadata": {
        "id": "B2AebCCepFpN"
      },
      "execution_count": null,
      "outputs": []
    },
    {
      "cell_type": "code",
      "source": [
        "# Change the number 6 to the number 5 and print your new list\n",
        "\n"
      ],
      "metadata": {
        "id": "WJUA-GWMpMB2"
      },
      "execution_count": null,
      "outputs": []
    },
    {
      "cell_type": "code",
      "source": [
        "# In your list, change number 3 to 'cat' and print your new list\n",
        "\n"
      ],
      "metadata": {
        "id": "lzMMorDmpZjA"
      },
      "execution_count": null,
      "outputs": []
    },
    {
      "cell_type": "markdown",
      "source": [
        "## Slicing\n",
        "\n",
        "Slicing in lists works similarly to how it worked with strings.\n",
        "\n",
        "Instead of getting just one item in a list, to get multiple you insert the start index and the final index, separated by a colon (:). \n",
        "\n",
        "**Remember** Slicing, similar to indexing happens within square brackets [ ].\n",
        "\n",
        " **NOTE** The final index will not be shown."
      ],
      "metadata": {
        "id": "dcMw80wTmmP6"
      }
    },
    {
      "cell_type": "code",
      "source": [
        "wizard_list = ['spider legs', 'toe of frog', 'eye of newt', 'bat wing', 'snake dandruff']\n",
        "\n",
        "print(wizard_list[1])"
      ],
      "metadata": {
        "id": "QQbu9ASWq7Vj"
      },
      "execution_count": null,
      "outputs": []
    },
    {
      "cell_type": "code",
      "source": [
        "# Change the third item in wizard_list to another item of your choice\n",
        "\n"
      ],
      "metadata": {
        "id": "NSS9knKwrDWA"
      },
      "execution_count": null,
      "outputs": []
    },
    {
      "cell_type": "code",
      "source": [
        "wizard_list = ['spider legs', 'toe of frog', 'eye of newt', 'bat wing', 'snake dandruff']\n",
        "\n",
        "# To only select the first 3 items in the wizard list, what are the 2 ways to get this?\n",
        "\n",
        "# Option 1\n",
        "\n",
        "\n",
        "\n",
        "# Option 2\n",
        "\n"
      ],
      "metadata": {
        "id": "49JAvOH5qaqA"
      },
      "execution_count": null,
      "outputs": []
    },
    {
      "cell_type": "code",
      "source": [
        "# Append another item to the end of wizard_list\n",
        "\n"
      ],
      "metadata": {
        "id": "ciwDxy3frScj"
      },
      "execution_count": null,
      "outputs": []
    },
    {
      "cell_type": "code",
      "source": [
        "# Add another list of items to wizard_list\n",
        "\n"
      ],
      "metadata": {
        "id": "hvzcECEprWmk"
      },
      "execution_count": null,
      "outputs": []
    },
    {
      "cell_type": "markdown",
      "source": [
        "# User Inputs \n",
        "\n",
        "There may be situations in which we want to tell Python what to do without having to change the code everytime. \n",
        "\n",
        "The easiest way is to send strings (text) to Python. \n",
        "\n",
        "To input something into python, it is really simple. Use the `input()` method.\n"
      ],
      "metadata": {
        "id": "3aPJjy-UwpU0"
      }
    },
    {
      "cell_type": "code",
      "source": [
        "message = input()"
      ],
      "metadata": {
        "id": "oehPGfbemmGL"
      },
      "execution_count": null,
      "outputs": []
    },
    {
      "cell_type": "markdown",
      "source": [
        "As you can see in the previous cell, when it is run, there is an input box in which whatever you enter will be printed once you press `ENTER`."
      ],
      "metadata": {
        "id": "Uveqzt7_xl9Q"
      }
    },
    {
      "cell_type": "markdown",
      "source": [
        "In order to add a question along with your input, add a string to the input message. \n",
        "\n",
        "```python\n",
        "input('How are you feeling today?: ')\n",
        "```\n",
        "\n",
        "As you can see, using a colon (:) lets the program know there is a response required.\n"
      ],
      "metadata": {
        "id": "8poeEqbqyN0x"
      }
    },
    {
      "cell_type": "code",
      "source": [
        "input('How are you feeling today: ')"
      ],
      "metadata": {
        "id": "8F1U9C1_mmEb"
      },
      "execution_count": null,
      "outputs": []
    },
    {
      "cell_type": "code",
      "source": [
        "name = input('What is your name?: ')\n",
        "print(f'Hello {name}')"
      ],
      "metadata": {
        "id": "Wpao2SKw2Gjq"
      },
      "execution_count": null,
      "outputs": []
    },
    {
      "cell_type": "markdown",
      "source": [
        "These can be stored as a variable, allowing you to do so many things with the input function. It lets your code become more interactive."
      ],
      "metadata": {
        "id": "GgK09ri7zCUU"
      }
    },
    {
      "cell_type": "code",
      "source": [
        "first_name = input('What is your name?: ')\n",
        "adjective = input('Name an adjective: ')\n",
        "weather = input('What is the weather today?: ')\n",
        "number = int(input('A number between 1 and 1000: '))\n",
        "\n",
        "print(f'Hi! My name is {first_name} and I am very {adjective}.\\nI live in Antarctica, but it is currently {weather} and {number} degrees')"
      ],
      "metadata": {
        "id": "0E7809y2zCF_"
      },
      "execution_count": null,
      "outputs": []
    },
    {
      "cell_type": "code",
      "source": [
        "# Create your own inputs and put them into a sentence\n",
        "\n"
      ],
      "metadata": {
        "id": "j7O74c0ummBs"
      },
      "execution_count": null,
      "outputs": []
    },
    {
      "cell_type": "markdown",
      "source": [
        "# Control Flow \n",
        "\n",
        "Control flows are part of a decision making process you can implement into your code. \n",
        "\n",
        "These are essentially yes or no questions. \n",
        "\n",
        "For example:\n",
        "\n",
        "The program might ask 'Are you older than 20' and if the answer is yes, the response would be 'You are too old'\n",
        "\n",
        "These are conditions. "
      ],
      "metadata": {
        "id": "IPeIha2q1cNt"
      }
    },
    {
      "cell_type": "markdown",
      "source": [
        "## Conditions\n",
        "\n",
        "Conditions help us compare things.\n",
        "\n",
        "![image.png](data:image/png;base64,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)\n",
        "\n",
        "We weill get some more practice with these soon :)"
      ],
      "metadata": {
        "id": "tOf2nQYY7BfL"
      }
    },
    {
      "cell_type": "markdown",
      "source": [
        "## If Statements"
      ],
      "metadata": {
        "id": "Mjbn0F6e313B"
      }
    },
    {
      "cell_type": "code",
      "source": [
        "age = 13\n",
        "if age > 20:\n",
        "  print('You are too old')"
      ],
      "metadata": {
        "id": "R5h9peVq31v2"
      },
      "execution_count": null,
      "outputs": []
    },
    {
      "cell_type": "markdown",
      "source": [
        "There are many things to note when it comes to `if` statements.\n",
        "\n",
        "1. After writing your if statement, you **need a colon (:)**. \n",
        "2. The **next line will be at an indent**. This is where you write what should happen if the statement is `True`.\n",
        "\n"
      ],
      "metadata": {
        "id": "vR6YMYKT4Cn2"
      }
    },
    {
      "cell_type": "code",
      "source": [
        "# Change the above code to be adaptable for users input\n",
        "\n",
        "age = int(input('How old are you?: '))\n",
        "if age > 20:\n",
        "  print('You are too old')"
      ],
      "metadata": {
        "id": "8FIn2pr331qk"
      },
      "execution_count": null,
      "outputs": []
    },
    {
      "cell_type": "markdown",
      "source": [
        "The output could be multiple things, it does not just have to be one thing. There could be multiple outputs."
      ],
      "metadata": {
        "id": "ocPSRWSI5Kju"
      }
    },
    {
      "cell_type": "code",
      "source": [
        "age = int(input('How old are you?: '))\n",
        "if age < 21:\n",
        "  print('You are a child')\n",
        "  print('You are not allowed to go to the cinema alone')\n",
        "  print('You must be accompanied by an adult at all times')"
      ],
      "metadata": {
        "id": "E08A8yhn5SNr"
      },
      "execution_count": null,
      "outputs": []
    },
    {
      "cell_type": "markdown",
      "source": [
        "## Else "
      ],
      "metadata": {
        "id": "vUbgQeSH5Cfe"
      }
    },
    {
      "cell_type": "markdown",
      "source": [
        "Else statements define what would happen if the if statement is `False`. "
      ],
      "metadata": {
        "id": "03_5UbkB5u1x"
      }
    },
    {
      "cell_type": "code",
      "source": [
        "age = 16\n",
        "if age > 21:\n",
        "  print('You are an adult')\n",
        "else:\n",
        "  print('You are a child')"
      ],
      "metadata": {
        "id": "0vbP1Z1L31nP"
      },
      "execution_count": null,
      "outputs": []
    },
    {
      "cell_type": "markdown",
      "source": [
        "The `else` statement block is on the same line as the if statement. \n",
        "\n",
        "A colon is also needed after the else statement.\n",
        "\n",
        "The next line after the else statement will be at an indent also.\n",
        "\n",
        "As you can see, the age was set to 16, and so instead of the output being 'You are an adult' it is 'You are a child' because 16 is less than 21. "
      ],
      "metadata": {
        "id": "XUxqItSW6CNN"
      }
    },
    {
      "cell_type": "markdown",
      "source": [
        "The correct way to wrtie if-else statements is:\n",
        "\n",
        "if (condition):\n",
        "\n",
        ">Execute this block of code if the condition is TRUE\n",
        "\n",
        "else:\n",
        "\n",
        ">Execute this block of code if the condition is FALSE"
      ],
      "metadata": {
        "id": "XNixvL_2G27H"
      }
    },
    {
      "cell_type": "code",
      "source": [
        "num = 21\n",
        "if num/2 >= 10:\n",
        "  print('This number must be larger than 20')\n",
        "else:\n",
        "  print('This numner must be smaller than 20')"
      ],
      "metadata": {
        "id": "XGQd-JH97kxX"
      },
      "execution_count": null,
      "outputs": []
    },
    {
      "cell_type": "code",
      "source": [
        "# Using a list of numbers, use if-else statements to produce different outcomes\n",
        "\n",
        "number_list = [1,2,3,4,5,6,7,8,9,10]\n",
        "\n",
        "for x in number_list:\n",
        "  if x > 5:\n",
        "    print('sloths')\n",
        "  else:\n",
        "    print('nothing')"
      ],
      "metadata": {
        "id": "m3m_RSL7Ilhp"
      },
      "execution_count": null,
      "outputs": []
    },
    {
      "cell_type": "code",
      "source": [
        "# Create two inputs number_one and number_two\n",
        "# Create an if-else statement that determines if the sum of the two numbers is larger than 25\n",
        "# it prints 'fizz' otherwise it prints 'buzz'\n",
        "\n"
      ],
      "metadata": {
        "id": "rtRUCd_XJveC"
      },
      "execution_count": null,
      "outputs": []
    },
    {
      "cell_type": "markdown",
      "source": [
        "# Challenges"
      ],
      "metadata": {
        "id": "ewORYTqL31hz"
      }
    },
    {
      "cell_type": "markdown",
      "source": [
        "1. Write a program to check whether a person is allowed to vote or not. (Accept age from user)"
      ],
      "metadata": {
        "id": "VmCKmuq831dQ"
      }
    },
    {
      "cell_type": "code",
      "source": [
        "# Answer to Challenge 1.\n",
        "\n"
      ],
      "metadata": {
        "id": "qDyM0kxULB7P"
      },
      "execution_count": null,
      "outputs": []
    },
    {
      "cell_type": "markdown",
      "source": [
        "2. Write a program to check whether a number entered by a user is even or odd. "
      ],
      "metadata": {
        "id": "FZwHhfBJ31W_"
      }
    },
    {
      "cell_type": "code",
      "source": [
        "# Answer to Challenge 2.\n",
        "\n"
      ],
      "metadata": {
        "id": "xFTpyxno3zah"
      },
      "execution_count": null,
      "outputs": []
    },
    {
      "cell_type": "markdown",
      "source": [
        "3. Write a problem to display 'Hello' if a number entered is a mutliple of 5, otherwise print 'Bye'"
      ],
      "metadata": {
        "id": "zQOqAkgFLRm-"
      }
    },
    {
      "cell_type": "code",
      "source": [
        "# Answer to Challenge 3.\n",
        "\n"
      ],
      "metadata": {
        "id": "Oqf3gTJpLfJk"
      },
      "execution_count": null,
      "outputs": []
    },
    {
      "cell_type": "markdown",
      "source": [
        "4. Write a program to accept percentage from the user and display the grade according to the following criteria:\n",
        "\n",
        "         Marks                                    Grade\n",
        "         > 90                                        A\n",
        "         > 80 and <= 90                              B\n",
        "         >= 60 and <= 80                             C\n",
        "         below 60                                    D"
      ],
      "metadata": {
        "id": "76c2Yoz5LRkp"
      }
    },
    {
      "cell_type": "markdown",
      "source": [
        "5. How would you turn the string 'Practice' into a list?"
      ],
      "metadata": {
        "id": "8pS1VLhWLRiN"
      }
    },
    {
      "cell_type": "code",
      "source": [
        "# Answer to Challenge 5.\n",
        "\n"
      ],
      "metadata": {
        "id": "hv0sQinBLRbZ"
      },
      "execution_count": null,
      "outputs": []
    },
    {
      "cell_type": "markdown",
      "source": [
        "6. a) Write the output of the following\n",
        "\n",
        "`a = [1,2,3,4,5]`\n",
        "\n",
        "* `a[-1]`\n",
        "* `a[1]`\n",
        "*`a[-2]`\n",
        "*`a[4]`\n",
        "*`a[2]`"
      ],
      "metadata": {
        "id": "6giYdXb5MefR"
      }
    },
    {
      "cell_type": "code",
      "source": [
        "# Answer to Challenge 6a.\n",
        "\n"
      ],
      "metadata": {
        "id": "MuNowqKdLRZJ"
      },
      "execution_count": null,
      "outputs": []
    },
    {
      "cell_type": "markdown",
      "source": [
        "6. b) Change number 2 and 3 to 'cat' and 'rabbit'"
      ],
      "metadata": {
        "id": "Pr8LvFXWM9Cs"
      }
    },
    {
      "cell_type": "code",
      "source": [
        "# Answer to Challenge 6b.\n",
        "\n"
      ],
      "metadata": {
        "id": "W3Wt7hkMLRWw"
      },
      "execution_count": null,
      "outputs": []
    }
  ]
}