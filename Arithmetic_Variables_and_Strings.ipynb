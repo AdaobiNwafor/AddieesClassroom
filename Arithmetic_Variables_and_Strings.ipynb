{
  "nbformat": 4,
  "nbformat_minor": 0,
  "metadata": {
    "colab": {
      "name": "Arithmetic Variables and Strings.ipynb",
      "provenance": [],
      "collapsed_sections": [],
      "include_colab_link": true
    },
    "kernelspec": {
      "name": "python3",
      "display_name": "Python 3"
    },
    "language_info": {
      "name": "python"
    }
  },
  "cells": [
    {
      "cell_type": "markdown",
      "metadata": {
        "id": "view-in-github",
        "colab_type": "text"
      },
      "source": [
        "<a href=\"https://colab.research.google.com/github/AdaobiNwafor/AddieesClassroom/blob/main/Arithmetic_Variables_and_Strings.ipynb\" target=\"_parent\"><img src=\"https://colab.research.google.com/assets/colab-badge.svg\" alt=\"Open In Colab\"/></a>"
      ]
    },
    {
      "cell_type": "markdown",
      "source": [
        "# What is Python?\n",
        "\n",
        "Python is a programming language which is used to give computers instructions.\n",
        "Python can be used to create games, create a website, make apps and much more. "
      ],
      "metadata": {
        "id": "qYW_AwxYhIdh"
      }
    },
    {
      "cell_type": "markdown",
      "source": [
        "# Introduction\n",
        "\n",
        "We only have 3 weeks and so we are going to learn as much as we can so that we can finish up with a mini final project!\n",
        "\n",
        "This week we are going to cover:\n",
        "* Arithmetic (Operators)\n",
        "* Print statements\n",
        "* Variables\n",
        "* Strings\n",
        "* Lists\n",
        "* Conditions (If & Else Statements)\n",
        "\n",
        "\n",
        "\n"
      ],
      "metadata": {
        "id": "mNQ_4sc7jOhO"
      }
    },
    {
      "cell_type": "markdown",
      "source": [
        "!!PLEASE NOTE!!\n",
        "\n",
        "If I am going too fast or you have any questions, please put your hand up. If I don't see you, you can shout my name to get my attention. \n",
        "\n",
        "After lessons, there will be questions/quizzes for you to make sure you get the topic well. \n",
        "\n",
        "**Also... \n",
        "Make sure you practice in your own time. Practice makes perfect!**\n"
      ],
      "metadata": {
        "id": "xsYpIVGOjOah"
      }
    },
    {
      "cell_type": "markdown",
      "source": [
        "Numbers in Python work like numbers everywhere. Everything you have learned in Maths can be done in python too! \n",
        "\n",
        "You have whole numbers (integers), decimals (floats), negative numbers"
      ],
      "metadata": {
        "id": "KZJHDxFcmINR"
      }
    },
    {
      "cell_type": "code",
      "source": [
        "123"
      ],
      "metadata": {
        "colab": {
          "base_uri": "https://localhost:8080/"
        },
        "id": "0rCo9LMTmZbK",
        "outputId": "59b65813-5ec6-45de-c6dd-f00e5dd70949"
      },
      "execution_count": null,
      "outputs": [
        {
          "output_type": "execute_result",
          "data": {
            "text/plain": [
              "123"
            ]
          },
          "metadata": {},
          "execution_count": 1
        }
      ]
    },
    {
      "cell_type": "code",
      "source": [
        "4321234.56"
      ],
      "metadata": {
        "colab": {
          "base_uri": "https://localhost:8080/"
        },
        "id": "Pc8Vcbhomdk2",
        "outputId": "e67f3d41-ee6a-400f-a8e9-8614731da222"
      },
      "execution_count": null,
      "outputs": [
        {
          "output_type": "execute_result",
          "data": {
            "text/plain": [
              "4321234.567"
            ]
          },
          "metadata": {},
          "execution_count": 6
        }
      ]
    },
    {
      "cell_type": "code",
      "source": [
        "-1353"
      ],
      "metadata": {
        "colab": {
          "base_uri": "https://localhost:8080/"
        },
        "id": "w_B_wMQkmgJn",
        "outputId": "920a9f87-23b2-4ec1-d175-ecef6eb07de9"
      },
      "execution_count": null,
      "outputs": [
        {
          "output_type": "execute_result",
          "data": {
            "text/plain": [
              "-1353"
            ]
          },
          "metadata": {},
          "execution_count": 5
        }
      ]
    },
    {
      "cell_type": "markdown",
      "source": [
        "In order to carry out basic maths, **operators** are needed. \n",
        "\n",
        "The operators needed are:\n",
        "* (Addition) + \n",
        "* (Subtraction) - \n",
        "* (Multiplication) *\n",
        "* (Division) /\n",
        "* (Exponent) **\n",
        "* (Modulus) %\n",
        "\n",
        "Remember that BODMAS is still very important in basic math operations."
      ],
      "metadata": {
        "id": "GqalPvTrm7bW"
      }
    },
    {
      "cell_type": "code",
      "source": [
        "43 + 7"
      ],
      "metadata": {
        "colab": {
          "base_uri": "https://localhost:8080/"
        },
        "id": "PSk-Py1lmgHG",
        "outputId": "dd938837-bb88-46b2-e136-4bff292236c7"
      },
      "execution_count": null,
      "outputs": [
        {
          "output_type": "execute_result",
          "data": {
            "text/plain": [
              "50"
            ]
          },
          "metadata": {},
          "execution_count": 2
        }
      ]
    },
    {
      "cell_type": "code",
      "source": [
        "23 - 5"
      ],
      "metadata": {
        "id": "iafxR7fXmgEe"
      },
      "execution_count": null,
      "outputs": []
    },
    {
      "cell_type": "code",
      "source": [
        "5 * 4"
      ],
      "metadata": {
        "id": "oj0IK1CDoXh_"
      },
      "execution_count": null,
      "outputs": []
    },
    {
      "cell_type": "code",
      "source": [
        "20 * 5"
      ],
      "metadata": {
        "id": "W67fS0jDoY52"
      },
      "execution_count": null,
      "outputs": []
    },
    {
      "cell_type": "code",
      "source": [
        "30 / 10"
      ],
      "metadata": {
        "id": "WEHuQz2socHd"
      },
      "execution_count": null,
      "outputs": []
    },
    {
      "cell_type": "code",
      "source": [
        "3 ** 2"
      ],
      "metadata": {
        "id": "GNAS0WpFod5I"
      },
      "execution_count": null,
      "outputs": []
    },
    {
      "cell_type": "code",
      "source": [
        "1200 / 5"
      ],
      "metadata": {
        "id": "biGGYrutogG3"
      },
      "execution_count": null,
      "outputs": []
    },
    {
      "cell_type": "code",
      "source": [
        "(4 * 20) / 10"
      ],
      "metadata": {
        "id": "RRAc_SDBog7u"
      },
      "execution_count": null,
      "outputs": []
    },
    {
      "cell_type": "code",
      "source": [
        "5 + (6 * 3) - 10 "
      ],
      "metadata": {
        "id": "2V6iQ6J0opaf"
      },
      "execution_count": null,
      "outputs": []
    },
    {
      "cell_type": "markdown",
      "source": [
        "## Modulus\n",
        "\n",
        "The modulus shows you the remainder of a division (%)"
      ],
      "metadata": {
        "id": "yxxdRFYUmIKu"
      }
    },
    {
      "cell_type": "code",
      "source": [
        "# Divide 100 by 10\n",
        "100/10\n",
        "\n",
        "# What is the remainder?"
      ],
      "metadata": {
        "id": "hnOKnhh7pgGX"
      },
      "execution_count": null,
      "outputs": []
    },
    {
      "cell_type": "code",
      "source": [
        "# Divide 100 by 6\n",
        "\n",
        "\n",
        "#What is the remainder?"
      ],
      "metadata": {
        "id": "_-Qn-DoTpnMP"
      },
      "execution_count": null,
      "outputs": []
    },
    {
      "cell_type": "code",
      "source": [
        "# Now use the modulus to find the reaminder of 100 divided by 6\n"
      ],
      "metadata": {
        "id": "c6XYXKMgpuyf"
      },
      "execution_count": null,
      "outputs": []
    },
    {
      "cell_type": "markdown",
      "source": [
        "This works because 19 x 6 is 96. So the modulus shows you the remainder"
      ],
      "metadata": {
        "id": "DCWbXwYHqHm6"
      }
    },
    {
      "cell_type": "markdown",
      "source": [
        "# Variables\n",
        "\n",
        "Variables are like labels. In python, this is a place to store information such as numbers, texts, lists, lists of numbers and texts etc.\n",
        "\n",
        "For example, we are going to create a variable named fred. This is done using the equal sign (=). We can then decide what information fred will store.\n",
        "\n",
        "To show the information that fred stores, we use a **print statement**. \n",
        "This is done by typing print() and inserting what we want to display inside the brackets."
      ],
      "metadata": {
        "id": "y0V0FEvFqjJA"
      }
    },
    {
      "cell_type": "code",
      "source": [
        "# Create the variable named fred\n",
        "\n",
        "\n",
        "fred = 200"
      ],
      "metadata": {
        "id": "_X-a2IdeqA8W"
      },
      "execution_count": null,
      "outputs": []
    },
    {
      "cell_type": "code",
      "source": [
        "print(fred)"
      ],
      "metadata": {
        "id": "ZxC3t9lFp8i-"
      },
      "execution_count": null,
      "outputs": []
    },
    {
      "cell_type": "markdown",
      "source": [
        "It is possible to change the fred variable so that it stores something else."
      ],
      "metadata": {
        "id": "lWRO_f05rdxf"
      }
    },
    {
      "cell_type": "code",
      "source": [
        "# Change the fred variable to 200 and print the statement\n",
        "\n",
        "fred=500\n",
        "print(fred)\n"
      ],
      "metadata": {
        "id": "j9xSpZkprkkn"
      },
      "execution_count": null,
      "outputs": []
    },
    {
      "cell_type": "markdown",
      "source": [
        "More than one label (variable) can be used to store the same information"
      ],
      "metadata": {
        "id": "j3la6Z9LmIEB"
      }
    },
    {
      "cell_type": "code",
      "source": [
        "fred = 200\n",
        "john = fred"
      ],
      "metadata": {
        "id": "3psCS5morzCQ"
      },
      "execution_count": null,
      "outputs": []
    },
    {
      "cell_type": "markdown",
      "source": [
        "What do you think will show if we print 'john'?"
      ],
      "metadata": {
        "id": "ywvmGuM6mIBX"
      }
    },
    {
      "cell_type": "code",
      "source": [
        "# Print john\n",
        "\n",
        "print(john)"
      ],
      "metadata": {
        "id": "tm75uU29r8dG"
      },
      "execution_count": null,
      "outputs": []
    },
    {
      "cell_type": "markdown",
      "source": [
        "When naming variables it is important that they are as descriptive as possible and tell you as much as possible. If the name of your variable is getting too long, instead of using spaces, use an underscore (_).\n",
        "\n",
        "For instance, multiply the values of fred and john and store that in a variable."
      ],
      "metadata": {
        "id": "Kw4v5stAmH-q"
      }
    },
    {
      "cell_type": "code",
      "source": [
        "# multiply fred and john and store it in a variable\n",
        "\n"
      ],
      "metadata": {
        "id": "ZraT-O72vYpg"
      },
      "execution_count": null,
      "outputs": []
    },
    {
      "cell_type": "code",
      "source": [
        "# Print fred_and_john. What do you think the output will be?\n",
        "\n"
      ],
      "metadata": {
        "id": "AIj3QOjPvh7n"
      },
      "execution_count": null,
      "outputs": []
    },
    {
      "cell_type": "markdown",
      "source": [
        "# Strings\n",
        "\n",
        "Strings are just another word for text. To turn text into a string, they need to be within single (') or double quotes (\"). \n",
        "\n",
        "Eg.` sentence = 'This is a string' `\n",
        "\n",
        "To use speech marks within a string, use both types of quotes.\n",
        "\n",
        "Eg. `line =  ' \"The bus is runnning late\" said Mark'`\n",
        "\n",
        "As you can see, strings are always assgined to a variable"
      ],
      "metadata": {
        "id": "wF44JXbNmH22"
      }
    },
    {
      "cell_type": "code",
      "source": [
        "fred = 'Why do gorillas have big nostrills?'"
      ],
      "metadata": {
        "id": "SXrcVPInzLA9"
      },
      "execution_count": null,
      "outputs": []
    },
    {
      "cell_type": "code",
      "source": [
        "# Print the statement\n",
        "print(fred)"
      ],
      "metadata": {
        "id": "YxrRYag9zjHK"
      },
      "execution_count": null,
      "outputs": []
    },
    {
      "cell_type": "markdown",
      "source": [
        "To use more than one line of text in your string (multiline string), use 3 single quotes  ( ' ' ' ) then hit ENTER between lines."
      ],
      "metadata": {
        "id": "4xQ9lTeczyRI"
      }
    },
    {
      "cell_type": "code",
      "source": [
        "fred = '''How do dinosaurs pay their bills?\n",
        "With tyrannosaurus checks!! '''\n",
        "\n",
        "# print this statement to see the output"
      ],
      "metadata": {
        "id": "RPSSPnUbzopB"
      },
      "execution_count": null,
      "outputs": []
    },
    {
      "cell_type": "markdown",
      "source": [
        "# Adding and Multiplying Strings\n",
        "\n",
        "Python lets you add and mutliply strings together. However, you cannot subtract or divide strings "
      ],
      "metadata": {
        "id": "ZVK2mxe00w65"
      }
    },
    {
      "cell_type": "code",
      "source": [
        "# What are the differences between the 3 strings \n",
        "\n",
        "'Hello' + 'World'\n",
        "'Hello ' + 'World'\n",
        "'Hello ' + ' World'"
      ],
      "metadata": {
        "id": "6cJPND190SR_"
      },
      "execution_count": null,
      "outputs": []
    },
    {
      "cell_type": "code",
      "source": [
        "# print all the different variations of hello world to see the difference"
      ],
      "metadata": {
        "id": "YjHkwTuw2Eqq"
      },
      "execution_count": null,
      "outputs": []
    },
    {
      "cell_type": "code",
      "source": [
        "# What are the differences between these two outputs \n",
        "\n",
        "one = 17 + 3\n",
        "two = '17' + '3'\n",
        "\n",
        "# What do you think will be the output for each of them?"
      ],
      "metadata": {
        "id": "FTJVZKDM1Jhf"
      },
      "execution_count": null,
      "outputs": []
    },
    {
      "cell_type": "code",
      "source": [
        "# print one and two\n"
      ],
      "metadata": {
        "id": "ejqyCOH9116d"
      },
      "execution_count": null,
      "outputs": []
    },
    {
      "cell_type": "code",
      "source": [
        "'Hello' * 2"
      ],
      "metadata": {
        "id": "oQS7CIg52U4Y"
      },
      "execution_count": null,
      "outputs": []
    },
    {
      "cell_type": "code",
      "source": [
        "'Hello ' * 5"
      ],
      "metadata": {
        "id": "ALsI1qG42byo"
      },
      "execution_count": null,
      "outputs": []
    },
    {
      "cell_type": "code",
      "source": [
        "print(10 * 'abc ')"
      ],
      "metadata": {
        "id": "0Y2sQMRm2nHw"
      },
      "execution_count": null,
      "outputs": []
    },
    {
      "cell_type": "code",
      "source": [
        "'7' * 5"
      ],
      "metadata": {
        "id": "ekGi28Zw3Y6h"
      },
      "execution_count": null,
      "outputs": []
    },
    {
      "cell_type": "markdown",
      "source": [
        "What is the difference between \n",
        "\n",
        "`2 + 5 `\n",
        "\n",
        "and \n",
        "\n",
        "`'2' + '5'`"
      ],
      "metadata": {
        "id": "xwcMvJOd4sAZ"
      }
    },
    {
      "cell_type": "code",
      "source": [
        "print(2 + 5)\n",
        "print('2' + '5')"
      ],
      "metadata": {
        "id": "wOzIZbR_3an6"
      },
      "execution_count": null,
      "outputs": []
    },
    {
      "cell_type": "code",
      "source": [
        "# What do you think the outcome will be. Will there be an error or not?\n",
        "\n",
        "print('Hello')\n",
        "print()\n",
        "print('World')"
      ],
      "metadata": {
        "id": "TPXOKkJY2rpY"
      },
      "execution_count": null,
      "outputs": []
    },
    {
      "cell_type": "markdown",
      "source": [
        "# Inserting values in strings\n",
        "\n",
        "If you want to display a message using the contents of a variable, you can embed the values using an **f-string and {}**\n",
        "\n",
        "For example:\n",
        "\n",
        "You have a python program that calculates and stores the number of points you scored in a game. You want to add the score to a string such as 'You scored ___ points', where your points are inserted. "
      ],
      "metadata": {
        "id": "Rh-ZDhvR2UtY"
      }
    },
    {
      "cell_type": "code",
      "source": [
        "my_score = 1000\n",
        "print(f'You scored {my_score} points!')"
      ],
      "metadata": {
        "id": "SA2L52tV5iLi"
      },
      "execution_count": null,
      "outputs": []
    },
    {
      "cell_type": "markdown",
      "source": [
        "Putting the variable within curly brackets `{}` acts a placeholder, allowing you to easily insert a variable. Especially one that may constantly change. "
      ],
      "metadata": {
        "id": "pX8hlMBz2Uqg"
      }
    },
    {
      "cell_type": "code",
      "source": [
        "body_part_one = 'Knee'\n",
        "body_part_two = 'Shin'\n",
        "print(f'{body_part_one}: A device for finding furniture in the dark')\n",
        "print(f'{body_part_two}: A device for finding furniture in the dark')"
      ],
      "metadata": {
        "id": "hLoZzwJp2Uic"
      },
      "execution_count": null,
      "outputs": []
    },
    {
      "cell_type": "code",
      "source": [
        "body_part_one = 'Knee'\n",
        "body_part_two = 'Shin'\n",
        "furniture_one = 'chairs'\n",
        "furniture_two = 'tables'\n",
        "\n",
        "# How would you print statements that included both variables in the same sentence?"
      ],
      "metadata": {
        "id": "kdKkRe_E2Uf0"
      },
      "execution_count": null,
      "outputs": []
    },
    {
      "cell_type": "markdown",
      "source": [
        "# Indexing and Slicing Strings\n",
        "\n",
        "Indexing allows you to select individual letters in a string by using numbers. The first letter of any string is 0. The next is 1, and so on. The index of the last letter will be -1. \n",
        "\n",
        "![image.png](data:image/png;base64,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)\n",
        "\n",
        "To find the letter, or group of letters within a string, the index number is put between square brackets [].\n",
        "\n",
        "Ex.\n",
        "\n",
        "Find the 4th letter in the word python \n",
        "\n",
        "```word = 'python'```\n",
        "\n",
        "```# We know that the 4th letter in the word is 'h', however, when indexing, the first letter starts at 0. So P is 0. To get to H, we get 3. ```\n",
        "\n",
        "```print(word[3])```\n",
        "\n",
        "\n"
      ],
      "metadata": {
        "id": "e_SqrnV4HJle"
      }
    },
    {
      "cell_type": "code",
      "source": [
        "# What is the index of the 3rd letter\n",
        "\n",
        "text = 'python'"
      ],
      "metadata": {
        "id": "8bdWfrRQKVMB"
      },
      "execution_count": null,
      "outputs": []
    },
    {
      "cell_type": "code",
      "source": [
        "# Find the 4th, 6th and 8th letter in the word\n",
        "\n",
        "word = 'dodecathlon'"
      ],
      "metadata": {
        "id": "mF_FHUVCMjDk"
      },
      "execution_count": null,
      "outputs": []
    },
    {
      "cell_type": "code",
      "source": [
        "# What index is the letter 'O' in this word\n",
        "\n",
        "word = 'octagon'"
      ],
      "metadata": {
        "id": "rvuYM4fEMtyG"
      },
      "execution_count": null,
      "outputs": []
    },
    {
      "cell_type": "code",
      "source": [
        "# Crrate a word and find the 2nd, 4th and 5th letters in that word\n",
        "\n"
      ],
      "metadata": {
        "id": "P5SMM8LmM6s4"
      },
      "execution_count": null,
      "outputs": []
    },
    {
      "cell_type": "markdown",
      "source": [
        "It is possible to get a group of words from a string. This is known as slicing. \n",
        "\n",
        "Specify the start index and final index separated by a colon within square brackets. \n",
        "\n",
        "```word = 'python'```\n",
        "\n",
        "```print(word[2:5])```\n",
        "\n",
        "output:\n",
        "```tho```\n",
        "\n",
        "\n",
        "**It is important to note** that the final index ***does not*** appear, and so in this example, **only the 3rd, 4th and 5th letter** of the word would be printed\n",
        "\n",
        "If there is no start index stated, the slice will start from the first letter, 0. If there is no final index stated, the slice will continue to the final letter. \n",
        "\n",
        "Ex.\n",
        "\n",
        "```word = 'python'```\n",
        "\n",
        "```print(word[:2])```\n",
        "\n",
        "output:\n",
        "``` py ```\n",
        "\n",
        "---\n",
        "```print(word[3:])```\n",
        "\n",
        "output: ```hon```\n",
        "\n",
        "---\n",
        "If there are no start or end indexes stated, then the whole word will be printed.\n",
        "\n",
        "```print(word[:])```\n",
        "\n",
        "output: ```python```\n"
      ],
      "metadata": {
        "id": "r1AMUJn7KU3C"
      }
    },
    {
      "cell_type": "code",
      "source": [
        "word = 'hello'\n",
        "\n",
        "# What do you think will be printed? \n",
        "\n",
        "print(word[:3])"
      ],
      "metadata": {
        "id": "zBoyU_LaPndu"
      },
      "execution_count": null,
      "outputs": []
    },
    {
      "cell_type": "code",
      "source": [
        "# Create the word 'california' and slice the word to print the word 'for'\n",
        "\n"
      ],
      "metadata": {
        "id": "tiRSzu52PwrO"
      },
      "execution_count": null,
      "outputs": []
    },
    {
      "cell_type": "code",
      "source": [
        "# Create the word 'racecar' and slice the word to print 'race'\n",
        "\n"
      ],
      "metadata": {
        "id": "Gniu6nXsQAq4"
      },
      "execution_count": 3,
      "outputs": []
    },
    {
      "cell_type": "code",
      "source": [
        "# Create the word 'racecar' and slice the word to print 'car'\n",
        "\n"
      ],
      "metadata": {
        "id": "GQXzGi7vQI7Y"
      },
      "execution_count": 4,
      "outputs": []
    },
    {
      "cell_type": "code",
      "source": [
        "# Create the word 'garage' and slice the word to print 'rage'\n",
        "\n"
      ],
      "metadata": {
        "id": "AO2tIX29QUrD"
      },
      "execution_count": 5,
      "outputs": []
    },
    {
      "cell_type": "markdown",
      "source": [
        "# Challenges"
      ],
      "metadata": {
        "id": "KBt0raZg2UOv"
      }
    },
    {
      "cell_type": "markdown",
      "source": [
        "1. Calculate the multiplication and sum of two numbers\n",
        "\n",
        "Given two integers (whole numbers) return their product (multiplication) only if the product is equal to or lower than 100, else return their sum (addition).\n",
        "\n",
        "* a) `x = 10  .... y = 4.5`\n",
        "* b) `x = 5.2  .... y = 33`\n",
        "* c) `x = 10.3 .... y = 25`\n",
        "* d) `x = 4.5  .... y = 5.6`\n",
        "* e) `x = 12.3  .... y = 10.2`"
      ],
      "metadata": {
        "id": "V7KmUImOAEmI"
      }
    },
    {
      "cell_type": "code",
      "source": [
        "# Example\n",
        "# x = 10, y = 12\n",
        "\n",
        "x = 10\n",
        "y = 12 \n",
        "product = x * y \n",
        "print(product)\n",
        "print(f'x * y is {product}')\n",
        "result = x + y \n",
        "print(result)\n",
        "print(f'The result is {result} because x * y is {product} which is bigger than 100')"
      ],
      "metadata": {
        "id": "mf7LG5XGBQJm"
      },
      "execution_count": null,
      "outputs": []
    },
    {
      "cell_type": "markdown",
      "source": [
        "2. Print downward Half-Pyramid Pattern with the letter a\n",
        "\n",
        "```a a a a a a\n",
        "a a a a a\n",
        "a a a a\n",
        "a a a \n",
        "a a \n",
        "a\n"
      ],
      "metadata": {
        "id": "zVXVfjwVDbEA"
      }
    },
    {
      "cell_type": "markdown",
      "source": [
        "3. Create a string made of the first, middle and last name \n",
        "\n",
        "input:\n",
        "\n",
        "first name, middle name, last name \n",
        "\n",
        "output:\n",
        "\n",
        "full name \n",
        "\n",
        "Ex. \n",
        "\n",
        "input:\n",
        "\n",
        "Adaobi \n",
        "Ann-Marie\n",
        "Nwafor\n",
        "\n",
        "output: \n",
        "\n",
        "Adaobi Ann-Marie Nwafor"
      ],
      "metadata": {
        "id": "4qP_AAIHExqb"
      }
    },
    {
      "cell_type": "markdown",
      "source": [
        "4. Create a string made of different letters in the string\n",
        "\n",
        "* a) 'objections'   \n",
        "(2nd, 6th, 8th)\n",
        "\n",
        "* b) 'strawberry'   \n",
        "(1st, 4th, 7th)\n",
        "\n",
        "* c) 'friendship'   \n",
        "(3rd, 5th, 6th)\n",
        "\n",
        "* d) 'motivation'   \n",
        "(4th, 7th, 9th)\n",
        "\n",
        "* e) 'everything'   \n",
        "(5th, 8th, 10th)"
      ],
      "metadata": {
        "id": "pXXr8_PdRf5u"
      }
    }
  ]
}