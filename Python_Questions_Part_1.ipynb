{
  "nbformat": 4,
  "nbformat_minor": 0,
  "metadata": {
    "colab": {
      "name": "Python Questions - Part 1.ipynb",
      "provenance": [],
      "authorship_tag": "ABX9TyNNDkAmTahR9kIEnTkA7ruO",
      "include_colab_link": true
    },
    "kernelspec": {
      "name": "python3",
      "display_name": "Python 3"
    },
    "language_info": {
      "name": "python"
    }
  },
  "cells": [
    {
      "cell_type": "markdown",
      "metadata": {
        "id": "view-in-github",
        "colab_type": "text"
      },
      "source": [
        "<a href=\"https://colab.research.google.com/github/AdaobiNwafor/AddieesClassroom/blob/main/Python_Questions_Part_1.ipynb\" target=\"_parent\"><img src=\"https://colab.research.google.com/assets/colab-badge.svg\" alt=\"Open In Colab\"/></a>"
      ]
    },
    {
      "cell_type": "markdown",
      "source": [
        "# Python Questions - Part 1"
      ],
      "metadata": {
        "id": "uV15KKjz7ouD"
      }
    },
    {
      "cell_type": "markdown",
      "source": [
        "1. Guess the correct output of the following code?\n",
        "\n",
        "```str1 = \"PYnative\"```\n",
        "\n",
        "```print(str1[1:4], str1[:5], str1[4:], str1[0:-1], str1[:-1])```\n",
        "\n",
        " * a) PYn PYnat ive PYnativ vitanYP\n",
        " * b) Yna PYnat tive PYnativ vitanYP\n",
        " * c) *Yna* PYnat tive PYnativ PYnativ"
      ],
      "metadata": {
        "id": "AW5WJlW87oad"
      }
    },
    {
      "cell_type": "code",
      "execution_count": null,
      "metadata": {
        "id": "oxBjq0BR7GjS"
      },
      "outputs": [],
      "source": [
        "# Answer to Question 1\n",
        "\n"
      ]
    },
    {
      "cell_type": "markdown",
      "source": [
        "2. Select the correct output of the following String operations\n",
        "\n",
        "```str1 = 'Welcome'```\n",
        "\n",
        "```print (str1[:6] + ' Home')```\n",
        " \n",
        " * a) Welcome Home\n",
        " * b)WelcomHome\n",
        " * c) Welcom Home\n",
        " * d) WelcomePYnativeHome"
      ],
      "metadata": {
        "id": "bgFTbIAP8B3P"
      }
    },
    {
      "cell_type": "code",
      "source": [
        "# Answer to Question 2\n",
        "\n"
      ],
      "metadata": {
        "id": "VMz7p-AM8thv"
      },
      "execution_count": 1,
      "outputs": []
    },
    {
      "cell_type": "markdown",
      "source": [
        "3. Select the correct output of the following String operations\n",
        "\n",
        "```python\n",
        "strOne = str(\"language\")\n",
        "strTwo = \"language\"\n",
        "print(strOne == strTwo)\n",
        "print(strOne is strTwo)\n",
        "```\n",
        "\n",
        " * a) False False\n",
        " * b) True True\n",
        " * c) True False\n",
        " * d) False True\n"
      ],
      "metadata": {
        "id": "sV2lahX38Bx6"
      }
    },
    {
      "cell_type": "code",
      "source": [
        "# Answer to Question 3\n",
        "\n"
      ],
      "metadata": {
        "id": "m1gh-9ZE9Zd_"
      },
      "execution_count": null,
      "outputs": []
    },
    {
      "cell_type": "markdown",
      "source": [
        "4. What would the output be \n",
        "\n",
        "```python\n",
        "str1 = 'Welcome'\n",
        "print(str1*4)\n",
        "```\n"
      ],
      "metadata": {
        "id": "qlluCTIT8Bur"
      }
    },
    {
      "cell_type": "code",
      "source": [
        "# Answer to Question 4\n"
      ],
      "metadata": {
        "id": "F9-Ta1ye9nfS"
      },
      "execution_count": null,
      "outputs": []
    },
    {
      "cell_type": "markdown",
      "source": [
        "5. What is the correct output?\n",
        "\n",
        "```python\n",
        "myString = \"delivery\"\n",
        "stringList = [\"abc\", \"delivery\", \"xyz\"]\n",
        "\n",
        "print(stringList[1] == myString)\n",
        "print(stringList[1] is myString)\n",
        "```"
      ],
      "metadata": {
        "id": "lwcaXiOW8Br4"
      }
    },
    {
      "cell_type": "code",
      "source": [
        "# Answer to Question 5\n",
        "\n"
      ],
      "metadata": {
        "id": "PiKTgj8V-CWC"
      },
      "execution_count": null,
      "outputs": []
    },
    {
      "cell_type": "markdown",
      "source": [
        "6. Calculate the multiplication and sum of two numbers\n",
        "\n",
        "Given two integer numbers return their product only if the product is equal to or lower than 1000, else return their sum.\n",
        "\n",
        "Ex. \n",
        "```python \n",
        "a = 20\n",
        "b = 30\n",
        "```\n",
        "Expected output:\n",
        "```\n",
        "600\n",
        "```\n",
        "\n",
        "---\n",
        "\n",
        "```python\n",
        "a = 40\n",
        "b = 30\n",
        "```\n",
        "Expected output:\n",
        "```\n",
        "70\n",
        "```\n",
        "\n",
        "---\n",
        "* a) 20, 50\n",
        "* b) 45, 35\n",
        "* c) 10, 10\n",
        "* d) 78, 14\n",
        "* e) 54, 23"
      ],
      "metadata": {
        "id": "8HoGXx0_8BpX"
      }
    },
    {
      "cell_type": "code",
      "source": [
        "# Answer to Question 6\n",
        "\n"
      ],
      "metadata": {
        "id": "L9hLMH9V8Bir"
      },
      "execution_count": null,
      "outputs": []
    },
    {
      "cell_type": "markdown",
      "source": [
        "7. Write a program to iterate the first 10 numbers and in each iteration, print the sum of the current and previous number.\n",
        "\n",
        "Ex. \n",
        "```python\n",
        "Printing current and previous number sum in a range(10)\n",
        "Current Number 0 Previous Number  0  Sum:  0\n",
        "Current Number 1 Previous Number  0  Sum:  1\n",
        "Current Number 2 Previous Number  1  Sum:  3\n",
        "```\n",
        "\n",
        "etc\n"
      ],
      "metadata": {
        "id": "ZO-oCheR_y2k"
      }
    },
    {
      "cell_type": "code",
      "source": [
        "# Answer to Question 7\n",
        "\n"
      ],
      "metadata": {
        "id": "Da4az-dqAbWr"
      },
      "execution_count": null,
      "outputs": []
    },
    {
      "cell_type": "markdown",
      "source": [
        "8. Write a program to accept a string from the user and display characters that are present at an even index number.\n",
        "\n",
        "For example, \n",
        "```\n",
        "str = \"separation\" \n",
        "so you should display ‘s’, ‘p’, ‘r’, ‘t’, 'o'.\n",
        "```"
      ],
      "metadata": {
        "id": "R8mH-DgW_yzb"
      }
    },
    {
      "cell_type": "code",
      "source": [
        "# Answer to Question 8\n",
        "\n"
      ],
      "metadata": {
        "id": "H7mF4tAIBINO"
      },
      "execution_count": null,
      "outputs": []
    },
    {
      "cell_type": "markdown",
      "source": [
        "9. Write a function to return True if the first and last number of a given list is same. If numbers are different then return False.\n",
        "\n",
        "```python \n",
        "numbers = [10, 20, 30, 40, 50, 10]\n",
        "numbers_two = [75, 65, 55, 45, 35, 25]\n",
        "``` \n",
        "Expected output:\n",
        "```\n",
        "numbers: True\n",
        "numbers_two = False\n",
        "```"
      ],
      "metadata": {
        "id": "H2LFqqEa_yxc"
      }
    },
    {
      "cell_type": "code",
      "source": [
        "# Answer to Question 9\n",
        "\n"
      ],
      "metadata": {
        "id": "m_DXXPNTB18O"
      },
      "execution_count": null,
      "outputs": []
    },
    {
      "cell_type": "markdown",
      "source": [
        "10. Iterate the given list of numbers and print only those numbers which are divisible by 5\n",
        "\n",
        "* a) ```list_one = [2, 5, 23, 43, 20, 65, 33]```\n",
        "* b) ```list_two = [35, 21, 45, 66, 78, 90, 83]```\n",
        "* c) ```list_three = [44, 53, 56, 86, 30, 45, 97]```\n",
        "* d) ```list_four = [10, 48, 55, 77, 60, 40, 35]```"
      ],
      "metadata": {
        "id": "FPAna8AN_yuW"
      }
    },
    {
      "cell_type": "code",
      "source": [
        "# Answer to Question 10\n",
        "\n"
      ],
      "metadata": {
        "id": "YTUzQlcvIGg5"
      },
      "execution_count": null,
      "outputs": []
    },
    {
      "cell_type": "markdown",
      "source": [
        "11. Create a new list from a two list using the following condition\n",
        "\n",
        "Given two lists of numbers, write a program to create a new list such that the new list should contain odd numbers from the first list and even numbers from the second list.\n",
        "\n",
        "* a) ```list_one = [40, 83, 88, 97, 51, 55, 30, 22]\n",
        "```\n",
        "```list_two = [100, 34, 67, 94, 11, 50, 33, 72] ```\n",
        "* b) ```list_one = [90, 26, 79, 9, 61, 52, 81, 52]```\n",
        "```list_two = [20, 55, 68, 93, 31, 47, 90, 19] ```\n"
      ],
      "metadata": {
        "id": "M_3IZ8AZ_yqz"
      }
    },
    {
      "cell_type": "code",
      "source": [
        "# Answer to Question 11\n",
        "\n"
      ],
      "metadata": {
        "id": "LnZMGfP4O0Ju"
      },
      "execution_count": null,
      "outputs": []
    },
    {
      "cell_type": "markdown",
      "source": [
        "12. Write a program to display \"Hello\" if a number entered by user is a multiple of five , \n",
        "otherwise print \"Bye\"\n"
      ],
      "metadata": {
        "id": "hvYKZSN1_yna"
      }
    },
    {
      "cell_type": "code",
      "source": [
        "# Answer to Question 12\n",
        "\n"
      ],
      "metadata": {
        "id": "a8Nd8XkxO480"
      },
      "execution_count": null,
      "outputs": []
    },
    {
      "cell_type": "markdown",
      "source": [
        "13. Write a program to check whether the last digit of a number( entered by user ) is \n",
        "divisible by 3 or not."
      ],
      "metadata": {
        "id": "YvgLNFKo_yki"
      }
    },
    {
      "cell_type": "code",
      "source": [
        "# Answer to Question 13\n",
        "\n"
      ],
      "metadata": {
        "id": "e84mrVgNPERV"
      },
      "execution_count": null,
      "outputs": []
    },
    {
      "cell_type": "markdown",
      "source": [
        "14. Write a program to find the smallest number out of two numbers excepted from user."
      ],
      "metadata": {
        "id": "6GJbTrWy_yhE"
      }
    },
    {
      "cell_type": "code",
      "source": [
        "# Answer to Question 14\n",
        "\n"
      ],
      "metadata": {
        "id": "Z0vsgOu68BZA"
      },
      "execution_count": null,
      "outputs": []
    }
  ]
}